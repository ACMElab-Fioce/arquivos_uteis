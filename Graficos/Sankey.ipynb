{
 "cells": [
  {
   "cell_type": "code",
   "execution_count": 1,
   "metadata": {},
   "outputs": [],
   "source": [
    "import pandas as pd\n",
    "import plotly.graph_objects as go\n",
    "import plotly.io as pio"
   ]
  },
  {
   "cell_type": "markdown",
   "metadata": {},
   "source": [
    "Importação da base de dados"
   ]
  },
  {
   "cell_type": "code",
   "execution_count": null,
   "metadata": {},
   "outputs": [],
   "source": [
    "# Carregar os dados\n",
    "dados = pd.read_csv(\"dados.csv\", sep=\";\")\n",
    "\n",
    "# Tratar valores ausentes\n",
    "dados['mecanismo_resistencia'].fillna('Desconhecido', inplace=True)\n",
    "dados['mecanismo_resistencia'].replace('', 'Desconhecido', inplace=True)\n",
    "\n",
    "# Filtrar para o estado CE\n",
    "dados = dados[dados[\"state\"] == \"PR\"]"
   ]
  },
  {
   "cell_type": "code",
   "execution_count": null,
   "metadata": {},
   "outputs": [],
   "source": [
    "# Agrupar pelos campos necessários\n",
    "summary = dados.groupby(['time', 'origin', 'classe_droga', 'mecanismo_resistencia']).size().reset_index(name='count')\n",
    "\n",
    "# Criar os labels em ordem\n",
    "labels = pd.concat([summary['time'], summary['origin'], summary['classe_droga'], summary['mecanismo_resistencia']]).unique()\n",
    "label_to_index = {label: index for index, label in enumerate(labels)}\n",
    "\n",
    "# Criar listas de índices para o gráfico de Sankey\n",
    "time_index = summary['time'].map(label_to_index)\n",
    "origin_index = summary['origin'].map(label_to_index)\n",
    "classe_droga_index = summary['classe_droga'].map(label_to_index)\n",
    "mecanismo_resistencia_index = summary['mecanismo_resistencia'].map(label_to_index)"
   ]
  },
  {
   "cell_type": "code",
   "execution_count": null,
   "metadata": {},
   "outputs": [],
   "source": [
    "# Criar as listas de links (sources e targets)\n",
    "source = []\n",
    "target = []\n",
    "value = []\n",
    "link_colors = []\n",
    "\n",
    "# Definir listas de cores\n",
    "time_colors = [\n",
    "    'rgba(205, 133, 63, 0.6)',   # Dark Orange\n",
    "    'rgba(100, 149, 237, 0.6)',  # Cornflower Blue\n",
    "    'rgba(60, 179, 113, 0.6)',   # Medium Sea Green\n",
    "    'rgba(219, 112, 147, 0.6)',  # Pale Violet Red\n",
    "    'rgba(189, 183, 107, 0.6)',  # Dark Khaki\n",
    "]\n",
    "origin_colors = [\n",
    "    'rgba(255, 99, 71, 0.6)',  # Tomato\n",
    "    'rgba(100, 149, 237, 0.6)',  # Cornflower Blue\n",
    "]\n",
    "classe_droga_colors = [\n",
    "    'rgba(255, 99, 71, 0.6)',    # Tomato\n",
    "    'rgba(60, 179, 113, 0.6)',   # Medium Sea Green\n",
    "    'rgba(65, 105, 225, 0.6)',   # Royal Blue\n",
    "    'rgba(255, 140, 0, 0.6)',    # Dark Orange\n",
    "    'rgba(138, 43, 226, 0.6)',   # Blue Violet\n",
    "    'rgba(255, 20, 147, 0.6)',   # Deep Pink\n",
    "    'rgba(0, 191, 255, 0.6)',    # Deep Sky Blue\n",
    "    'rgba(34, 139, 34, 0.6)',    # Forest Green\n",
    "    'rgba(255, 215, 0, 0.6)',    # Gold\n",
    "    'rgba(0, 128, 128, 0.6)',    # Teal\n",
    "    'rgba(210, 105, 30, 0.6)',   # Chocolate\n",
    "    'rgba(255, 69, 0, 0.6)',     # Orange Red\n",
    "    'rgba(75, 0, 130, 0.6)',     # Indigo\n",
    "    'rgba(124, 252, 0, 0.6)',    # Lawn Green\n",
    "    'rgba(218, 112, 214, 0.6)',  # Orchid\n",
    "    'rgba(244, 164, 96, 0.6)',   # Sandy Brown\n",
    "    'rgba(0, 206, 209, 0.6)',    # Dark Turquoise\n",
    "    'rgba(186, 85, 211, 0.6)',   # Medium Orchid\n",
    "    'rgba(255, 228, 196, 0.6)',  # Bisque\n",
    "    'rgba(128, 0, 0, 0.6)',      # Maroon\n",
    "]\n",
    "\n",
    "# Mapear estados para cores\n",
    "time_to_color = {time: time_colors[i % len(time_colors)] for i, time in enumerate(summary['time'].unique())}\n",
    "origin_to_color = {origin: origin_colors[i % len(origin_colors)] for i, origin in enumerate(summary['origin'].unique())}\n",
    "classe_droga_to_color = {classe_droga: classe_droga_colors[i % len(classe_droga_colors)] for i, classe_droga in enumerate(summary['classe_droga'].unique())}\n",
    "\n",
    "# Adicionar links de time para origin\n",
    "for _, row in summary.iterrows():\n",
    "    source.append(label_to_index[row['time']])\n",
    "    target.append(label_to_index[row['origin']])\n",
    "    value.append(row['count'])\n",
    "    link_colors.append(time_to_color[row['time']])\n",
    "\n",
    "# Adicionar links de origin para classe_droga\n",
    "for _, row in summary.iterrows():\n",
    "    source.append(label_to_index[row['origin']])\n",
    "    target.append(label_to_index[row['classe_droga']])\n",
    "    value.append(row['count'])\n",
    "    link_colors.append(origin_to_color[row['origin']])\n",
    "\n",
    "# Adicionar links de classe_droga para mecanismo_resistencia\n",
    "for _, row in summary.iterrows():\n",
    "    source.append(label_to_index[row['classe_droga']])\n",
    "    target.append(label_to_index[row['mecanismo_resistencia']])\n",
    "    value.append(row['count'])\n",
    "    link_colors.append(classe_droga_to_color[row['classe_droga']])\n"
   ]
  },
  {
   "cell_type": "markdown",
   "metadata": {},
   "source": [
    "Plotar o gráfico"
   ]
  },
  {
   "cell_type": "code",
   "execution_count": null,
   "metadata": {},
   "outputs": [],
   "source": [
    "# Criar o gráfico de Sankey\n",
    "fig = go.Figure(go.Sankey(\n",
    "    node=dict(\n",
    "        pad=15,\n",
    "        thickness=20,\n",
    "        line=dict(color=\"black\", width=0.5),\n",
    "        label=labels,\n",
    "        color=\"blue\"\n",
    "    ),\n",
    "    link=dict(\n",
    "        source=source,\n",
    "        target=target,\n",
    "        value=value,\n",
    "        color=link_colors\n",
    "    )\n",
    "))\n",
    "\n",
    "fig.update_layout(title_text=\"Paraná: Período (mês) > Origem > Classe da Droga > Mecanismo de Resistência\", font_size=16)\n",
    "\n",
    "# Salvar a figura como um arquivo JPG\n",
    "pio.write_image(fig, 'PR_sankey_plot.jpg', format='jpg', width=1920, height=1080, scale=2)\n",
    "\n",
    "fig.show()"
   ]
  }
 ],
 "metadata": {
  "kernelspec": {
   "display_name": "Python 3",
   "language": "python",
   "name": "python3"
  },
  "language_info": {
   "codemirror_mode": {
    "name": "ipython",
    "version": 3
   },
   "file_extension": ".py",
   "mimetype": "text/x-python",
   "name": "python",
   "nbconvert_exporter": "python",
   "pygments_lexer": "ipython3",
   "version": "3.12.0"
  }
 },
 "nbformat": 4,
 "nbformat_minor": 2
}
