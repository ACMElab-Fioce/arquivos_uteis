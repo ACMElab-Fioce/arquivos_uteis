{
 "cells": [
  {
   "cell_type": "code",
   "execution_count": null,
   "metadata": {},
   "outputs": [],
   "source": [
    "import pandas as pd\n",
    "import plotly.express as px\n",
    "import plotly.io as pio"
   ]
  },
  {
   "cell_type": "markdown",
   "metadata": {},
   "source": [
    "Importação da base de dados"
   ]
  },
  {
   "cell_type": "code",
   "execution_count": null,
   "metadata": {},
   "outputs": [],
   "source": [
    "dados = pd.read_csv(\"dados.csv\", sep=\";\")\n",
    "dados = dados[dados[\"state\"] == \"PR\"]\n",
    "\n",
    "dados['resistance_mechanism'].fillna('Desconhecido', inplace=True)\n",
    "dados['resistance_mechanism'].replace('', 'Desconhecido', inplace=True)"
   ]
  },
  {
   "cell_type": "markdown",
   "metadata": {},
   "source": [
    "Plotagem do gráfico"
   ]
  },
  {
   "cell_type": "code",
   "execution_count": null,
   "metadata": {},
   "outputs": [],
   "source": [
    "fig = px.sunburst(\n",
    "    dados, \n",
    "    path=['time', 'drug_class', 'resistance_mechanism'], \n",
    "    title='Paraná: Relação entre Classes de Drogas e Mecanismos de Resistência',\n",
    "    color='drug_class')\n",
    "\n",
    "fig.update_traces(textfont=dict(color=\"black\"))\n",
    "\n",
    "pio.write_image(fig, \"PR_sunburst.jpg\", format='jpg', width=1200, height=800, scale=3)"
   ]
  }
 ],
 "metadata": {
  "kernelspec": {
   "display_name": "Python 3",
   "language": "python",
   "name": "python3"
  },
  "language_info": {
   "name": "python",
   "version": "3.12.0"
  }
 },
 "nbformat": 4,
 "nbformat_minor": 2
}
